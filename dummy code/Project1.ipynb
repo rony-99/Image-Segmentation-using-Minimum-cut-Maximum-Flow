{
 "cells": [
  {
   "cell_type": "code",
   "execution_count": 1,
   "id": "50eeb4dd-fc99-4dca-b155-84a1a3f9af19",
   "metadata": {},
   "outputs": [],
   "source": [
    "# !pip install gurobipy"
   ]
  },
  {
   "cell_type": "code",
   "execution_count": 2,
   "id": "d383b948-e5d4-4115-b7b0-8fd7cd6cb224",
   "metadata": {},
   "outputs": [],
   "source": [
    "import numpy as np\n",
    "import gurobipy as gp\n",
    "import matplotlib.pyplot as plt\n",
    "import networkx as nx\n",
    "from skimage import color\n",
    "from sklearn.feature_extraction import image\n",
    "import math\n",
    "import pandas as pd"
   ]
  },
  {
   "cell_type": "code",
   "execution_count": 3,
   "id": "2f2c49f4-6021-46e6-94cf-cb4980191e4e",
   "metadata": {},
   "outputs": [],
   "source": [
    "pixel_data = pd.read_csv('oval-1.csv', delimiter=',')\n",
    "data2 = pd.read_csv('box.csv',delimiter=',')\n",
    "example_df = pd.DataFrame([[100, 120, 120],\n",
    "                           [90, 100, 130],\n",
    "                           [80, 85, 125]])"
   ]
  },
  {
   "cell_type": "code",
   "execution_count": 4,
   "id": "5a25c391-2384-44cd-aac3-9a4b75605b0d",
   "metadata": {},
   "outputs": [],
   "source": [
    "# Your given 20x20 intensity matrix\n",
    "def a(pixel_data,threshold,sigma):\n",
    "    intensity_matrix = pixel_data\n",
    "    # Define image size and total nodes including source and sink\n",
    "    image_size = intensity_matrix.shape[0] \n",
    "    num_nodes = image_size * image_size + 2  # Including source and sink\n",
    "\n",
    "    # Set sigma value\n",
    "    # sigma = 0.05# Experiment with this value\n",
    "\n",
    "    # Create a network matrix of size 402x402\n",
    "    network = np.zeros((num_nodes, num_nodes))\n",
    "\n",
    "    # Calculate similarity values for connected pixels\n",
    "    for i in range(image_size):\n",
    "        for j in range(image_size):\n",
    "            pixel = i * image_size + j\n",
    "            Ii = intensity_matrix.iloc[i, j]\n",
    "\n",
    "            # Horizontal neighbors\n",
    "            if j < image_size - 1:\n",
    "                neighbor = pixel + 1\n",
    "                Ij = intensity_matrix.iloc[i, j + 1]\n",
    "                similarity = 100 * math.exp(-((Ii - Ij) ** 2) / (2 * sigma ** 2))\n",
    "                similarity = math.ceil(similarity)\n",
    "                network[pixel, neighbor] = similarity\n",
    "                network[neighbor, pixel] = similarity\n",
    "\n",
    "            # Vertical neighbors\n",
    "            if i < image_size - 1:\n",
    "                neighbor = pixel + image_size\n",
    "                Ij = intensity_matrix.iloc[i + 1, j]\n",
    "                similarity = 100 * math.exp(-((Ii - Ij) ** 2) / (2 * sigma ** 2))\n",
    "                similarity = math.ceil(similarity)\n",
    "                network[pixel, neighbor] = similarity\n",
    "                network[neighbor, pixel] = similarity\n",
    "\n",
    "    # Adding connections for the source (node 400) and sink (node 401)\n",
    "    source_node = 0\n",
    "    sink_node = num_nodes - 1\n",
    "\n",
    "    # Update connections for source and sink\n",
    "    # Assuming values closer to 0 belong to the foreground (oval)\n",
    "    for i in range(image_size):\n",
    "        for j in range(image_size):\n",
    "            pixel = i * image_size + j\n",
    "            if intensity_matrix.iloc[i, j] < threshold:  # Adjust this threshold for your image\n",
    "                network[source_node, pixel] = 100  # Strong connection to source\n",
    "            else:\n",
    "                network[pixel, sink_node] = 100 # Strong connection to sink\n",
    "    \n",
    "    return network, intensity_matrix\n"
   ]
  },
  {
   "cell_type": "code",
   "execution_count": 5,
   "id": "8550a9a5",
   "metadata": {},
   "outputs": [],
   "source": [
    "def b(network,intensity_matrix):\n",
    "    # Create the Gurobi model\n",
    "    mod = gp.Model(\"max_flow_image_segmentation\")\n",
    "    num_nodes = network.shape[0]\n",
    "    source_node = 0\n",
    "    sink_node = num_nodes - 1\n",
    "    image_size = intensity_matrix.shape[0] \n",
    "\n",
    "    # Add the matrix of decision variables with an upper bound defined by the network matrix\n",
    "    flow = mod.addMVar((num_nodes, num_nodes), ub=network, vtype=gp.GRB.CONTINUOUS, name=\"flow\")\n",
    "\n",
    "    # Set the objective to maximize the flow from the source node\n",
    "    mod.setObjective(flow[source_node, :].sum(), gp.GRB.MAXIMIZE)\n",
    "\n",
    "    # Adding flow conservation constraints for every pixel node (excluding source and sink)\n",
    "    for node in range(num_nodes):\n",
    "        if node not in [source_node, sink_node]:\n",
    "            mod.addConstr(flow[:, node].sum() == flow[node, :].sum(), name=f\"flow_conservation_{node}\")\n",
    "    mod.Params.OutputFlag = 0 \n",
    "    # Solve the model\n",
    "    mod.optimize()\n",
    "    # Checking if an optimal solution was found\n",
    "    if mod.status == gp.GRB.OPTIMAL:\n",
    "        print(\"Optimal solution found\")\n",
    "        flow_solution = flow.X  # Get the values of decision variables\n",
    "\n",
    "        # Calculate the residual network\n",
    "        residual_network = network - flow_solution\n",
    "        \n",
    "        # Perform depth-first search (DFS) from the source node\n",
    "        visited = np.zeros(num_nodes, dtype=bool)\n",
    "\n",
    "        def dfs(node):\n",
    "            visited[node] = True\n",
    "            for neighbor in range(num_nodes):\n",
    "                if residual_network[node, neighbor] > 0 and not visited[neighbor]:\n",
    "                    dfs(neighbor)\n",
    "\n",
    "        dfs(source_node)\n",
    "\n",
    "        # Find the cut edges\n",
    "        cut_edges = []\n",
    "        for i in range(num_nodes):\n",
    "            for j in range(num_nodes):\n",
    "                if visited[i] and not visited[j] and network[i, j] > 0:\n",
    "                    cut_edges.append((i, j))\n",
    "\n",
    "        # Visualize the segmentation\n",
    "        plt.imshow(intensity_matrix, cmap='gray', vmin=0, vmax=1)\n",
    "        print(cut_edges)\n",
    "        # Overlay the cuts in red\n",
    "        for i, j in cut_edges:\n",
    "            \n",
    "            if i < image_size * image_size and j < image_size * image_size:\n",
    "                row_i, col_i = divmod(i, image_size)\n",
    "                row_j, col_j = divmod(j, image_size)\n",
    "                # plt.plot([col_i - 0.5, col_j - 0.5], [row_i + 0.5, row_j + 0.5], color='red', linewidth=1)\n",
    "                plt.plot([col_i, col_j], [row_i, row_j], color='red', linewidth=1)\n",
    "\n",
    "        plt.title(\"Segmented Image with Cuts\")\n",
    "        plt.colorbar(label='Intensity')\n",
    "        plt.show()\n",
    "    else:\n",
    "        print(\"No optimal solution found\")"
   ]
  },
  {
   "cell_type": "code",
   "execution_count": 6,
   "id": "b08a5eb0",
   "metadata": {},
   "outputs": [
    {
     "data": {
      "text/plain": [
       "array([[100., 100., 100., ...,   0.,   0.,   0.],\n",
       "       [100.,   0., 100., ...,   0.,   0.,   0.],\n",
       "       [  0., 100.,   0., ...,   0.,   0.,   0.],\n",
       "       ...,\n",
       "       [  0.,   0.,   0., ...,   0.,   0., 100.],\n",
       "       [  0.,   0.,   0., ...,   0.,   0.,   0.],\n",
       "       [  0.,   0.,   0., ...,   0.,   0.,   0.]])"
      ]
     },
     "execution_count": 6,
     "metadata": {},
     "output_type": "execute_result"
    }
   ],
   "source": [
    "networkk, intensity_matrixx = a(data2,threshold=0.3,sigma = 0.1)\n",
    "networkk"
   ]
  },
  {
   "cell_type": "code",
   "execution_count": 7,
   "id": "9691f268",
   "metadata": {},
   "outputs": [
    {
     "name": "stdout",
     "output_type": "stream",
     "text": [
      "Set parameter Username\n",
      "Academic license - for non-commercial use only - expires 2025-08-26\n",
      "Optimal solution found\n",
      "[(182, 201), (183, 202), (184, 203), (185, 204), (186, 205), (187, 206), (188, 207), (188, 362), (189, 208), (189, 362), (200, 201), (219, 220), (238, 239), (257, 258), (276, 277), (295, 296), (314, 315), (314, 362), (333, 334), (333, 362), (351, 362), (352, 353), (352, 362)]\n"
     ]
    },
    {
     "data": {
      "image/png": "[encoded data removed]",
      "text/plain": [
       "<Figure size 640x480 with 2 Axes>"
      ]
     },
     "metadata": {},
     "output_type": "display_data"
    }
   ],
   "source": [
    "b(network=networkk,intensity_matrix=intensity_matrixx)"
   ]
  },
  {
   "cell_type": "code",
   "execution_count": null,
   "id": "f8384747-c2ef-405c-bff4-c6bf8ca8b0ee",
   "metadata": {},
   "outputs": [],
   "source": []
  },
  {
   "cell_type": "code",
   "execution_count": null,
   "id": "36d9e408-7a07-4956-9663-a33926210d3c",
   "metadata": {},
   "outputs": [],
   "source": []
  },
  {
   "cell_type": "code",
   "execution_count": null,
   "id": "a6724c1a-91bd-456d-af37-be77b13bb9b7",
   "metadata": {},
   "outputs": [],
   "source": []
  },
  {
   "cell_type": "code",
   "execution_count": null,
   "id": "9f411e94-769b-407b-ab57-caa49e2b2989",
   "metadata": {},
   "outputs": [],
   "source": []
  },
  {
   "cell_type": "code",
   "execution_count": null,
   "id": "12534bf2-85c9-44c8-bc67-e103fa7c4096",
   "metadata": {},
   "outputs": [],
   "source": []
  },
  {
   "cell_type": "code",
   "execution_count": null,
   "id": "ce3880ae-9ac6-4042-87a3-f75e6cd4e784",
   "metadata": {},
   "outputs": [],
   "source": []
  },
  {
   "cell_type": "code",
   "execution_count": null,
   "id": "0a066130-d8c6-4937-8621-0296e95a3310",
   "metadata": {},
   "outputs": [],
   "source": []
  },
  {
   "cell_type": "code",
   "execution_count": null,
   "id": "668de16f-0af1-4b30-ac8e-2e9ff531c781",
   "metadata": {},
   "outputs": [],
   "source": []
  },
  {
   "cell_type": "code",
   "execution_count": null,
   "id": "f809dffe-be45-4201-8e29-6bcba3e0bbfe",
   "metadata": {},
   "outputs": [],
   "source": []
  },
  {
   "cell_type": "code",
   "execution_count": 8,
   "id": "d25131c5-f16a-4830-8306-236b48e7aad7",
   "metadata": {},
   "outputs": [],
   "source": [
    "from PIL import Image\n",
    "\n",
    "# Open the image\n",
    "image_path = \"Pelican.jpg\"  # Replace with your image path\n",
    "img = Image.open(image_path)\n",
    "\n",
    "# Convert image to grayscale\n",
    "grayscale_img = img.convert(\"L\")\n",
    "\n",
    "# Get pixel values as a 2D array\n",
    "pixel_table = list(grayscale_img.getdata())\n",
    "width, height = grayscale_img.size\n",
    "pixel_table = [pixel_table[i * width:(i + 1) * width] for i in range(height)]\n",
    "\n",
    "#the image is a 128*128 matrix\n",
    "# Display the pixel table\n",
    "# for row in pixel_table:\n",
    "#     print(row)\n",
    "\n",
    "pixel_df = pd.DataFrame(pixel_table)\n",
    "# pixel_df"
   ]
  },
  {
   "cell_type": "code",
   "execution_count": 9,
   "id": "c46030a8",
   "metadata": {},
   "outputs": [
    {
     "data": {
      "text/plain": [
       "array([[  0., 100.,   0., ...,   0.,   0., 100.],\n",
       "       [100.,   0., 100., ...,   0.,   0., 100.],\n",
       "       [  0., 100.,   0., ...,   0.,   0., 100.],\n",
       "       ...,\n",
       "       [  0.,   0.,   0., ...,   0.,   0., 100.],\n",
       "       [  0.,   0.,   0., ...,   0.,   0.,   0.],\n",
       "       [  0.,   0.,   0., ...,   0.,   0.,   0.]])"
      ]
     },
     "execution_count": 9,
     "metadata": {},
     "output_type": "execute_result"
    }
   ],
   "source": [
    "networkk2, intensity_matrixx2 = a(pixel_df,threshold=0.3,sigma = 0.1)\n",
    "networkk2"
   ]
  },
  {
   "cell_type": "code",
   "execution_count": 10,
   "id": "9266a7f7",
   "metadata": {},
   "outputs": [
    {
     "ename": "KeyboardInterrupt",
     "evalue": "",
     "output_type": "error",
     "traceback": [
      "\u001b[0;31m---------------------------------------------------------------------------\u001b[0m",
      "\u001b[0;31mKeyboardInterrupt\u001b[0m                         Traceback (most recent call last)",
      "Cell \u001b[0;32mIn[10], line 1\u001b[0m\n\u001b[0;32m----> 1\u001b[0m \u001b[43mb\u001b[49m\u001b[43m(\u001b[49m\u001b[43mnetwork\u001b[49m\u001b[38;5;241;43m=\u001b[39;49m\u001b[43mnetworkk2\u001b[49m\u001b[43m,\u001b[49m\u001b[43mintensity_matrix\u001b[49m\u001b[38;5;241;43m=\u001b[39;49m\u001b[43mintensity_matrixx2\u001b[49m\u001b[43m)\u001b[49m\n",
      "Cell \u001b[0;32mIn[5], line 10\u001b[0m, in \u001b[0;36mb\u001b[0;34m(network, intensity_matrix)\u001b[0m\n\u001b[1;32m      7\u001b[0m image_size \u001b[38;5;241m=\u001b[39m intensity_matrix\u001b[38;5;241m.\u001b[39mshape[\u001b[38;5;241m0\u001b[39m] \n\u001b[1;32m      9\u001b[0m \u001b[38;5;66;03m# Add the matrix of decision variables with an upper bound defined by the network matrix\u001b[39;00m\n\u001b[0;32m---> 10\u001b[0m flow \u001b[38;5;241m=\u001b[39m \u001b[43mmod\u001b[49m\u001b[38;5;241;43m.\u001b[39;49m\u001b[43maddMVar\u001b[49m\u001b[43m(\u001b[49m\u001b[43m(\u001b[49m\u001b[43mnum_nodes\u001b[49m\u001b[43m,\u001b[49m\u001b[43m \u001b[49m\u001b[43mnum_nodes\u001b[49m\u001b[43m)\u001b[49m\u001b[43m,\u001b[49m\u001b[43m \u001b[49m\u001b[43mub\u001b[49m\u001b[38;5;241;43m=\u001b[39;49m\u001b[43mnetwork\u001b[49m\u001b[43m,\u001b[49m\u001b[43m \u001b[49m\u001b[43mvtype\u001b[49m\u001b[38;5;241;43m=\u001b[39;49m\u001b[43mgp\u001b[49m\u001b[38;5;241;43m.\u001b[39;49m\u001b[43mGRB\u001b[49m\u001b[38;5;241;43m.\u001b[39;49m\u001b[43mCONTINUOUS\u001b[49m\u001b[43m,\u001b[49m\u001b[43m \u001b[49m\u001b[43mname\u001b[49m\u001b[38;5;241;43m=\u001b[39;49m\u001b[38;5;124;43m\"\u001b[39;49m\u001b[38;5;124;43mflow\u001b[39;49m\u001b[38;5;124;43m\"\u001b[39;49m\u001b[43m)\u001b[49m\n\u001b[1;32m     12\u001b[0m \u001b[38;5;66;03m# Set the objective to maximize the flow from the source node\u001b[39;00m\n\u001b[1;32m     13\u001b[0m mod\u001b[38;5;241m.\u001b[39msetObjective(flow[source_node, :]\u001b[38;5;241m.\u001b[39msum(), gp\u001b[38;5;241m.\u001b[39mGRB\u001b[38;5;241m.\u001b[39mMAXIMIZE)\n",
      "File \u001b[0;32msrc/gurobipy/model.pxi:3140\u001b[0m, in \u001b[0;36mgurobipy.Model.addMVar\u001b[0;34m()\u001b[0m\n",
      "File \u001b[0;32msrc/gurobipy/model.pxi:3934\u001b[0m, in \u001b[0;36mgenexpr\u001b[0;34m()\u001b[0m\n",
      "File \u001b[0;32msrc/gurobipy/model.pxi:3934\u001b[0m, in \u001b[0;36mgenexpr\u001b[0;34m()\u001b[0m\n",
      "\u001b[0;31mKeyboardInterrupt\u001b[0m: "
     ]
    }
   ],
   "source": [
    "# b(network=networkk2,intensity_matrix=intensity_matrixx2)"
   ]
  }
 ],
 "metadata": {
  "kernelspec": {
   "display_name": "Python 3 (ipykernel)",
   "language": "python",
   "name": "python3"
  },
  "language_info": {
   "codemirror_mode": {
    "name": "ipython",
    "version": 3
   },
   "file_extension": ".py",
   "mimetype": "text/x-python",
   "name": "python",
   "nbconvert_exporter": "python",
   "pygments_lexer": "ipython3",
   "version": "3.12.2"
  }
 },
 "nbformat": 4,
 "nbformat_minor": 5
}
